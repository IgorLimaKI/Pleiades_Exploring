{
 "cells": [
  {
   "cell_type": "markdown",
   "metadata": {},
   "source": [
    "# Processo de limpeza dos datasets de Pleiades"
   ]
  },
  {
   "cell_type": "markdown",
   "metadata": {},
   "source": [
    "### Sobre o dataset escolhido\n",
    "<p>Pleiades é uma comunidade responsável por manter um \"dicionário geográfico\" de lugares antigos, como templos, santuários, fortes, cavernas, lagos, entre outras estruturas consideradas portadoras de valor histórico, com o objetivo de fornecer informações para pesquisas históricas, computacionais, para ferramentas de visualização e usuários curiosos sobre o assunto. </p>\n",
    "\n",
    "<a href=\"https://pleiades.stoa.org/home\" >Site Pleiades</a>\n",
    "\n",
    "<p> O site construído sobre <b>o resultado final deste processo de limpeza</b> tem como público alvo curiosos sobre estruturas anciãs catalogadas pelo Pleiades e como objetivo apresentar uma exploração de seu conteúdo visando descobrir novas curiosidades sobre o que já foi encontrado.</p>\n",
    "\n",
    "### Formatação dos dados\n",
    "<p>As informações desse dicionário estão disponíveis em json e csv. Por estar com a organização mais intuitiva, os dados csv, do dia <b>08/06/2020 07:09</b>, foram selecionados. Eles estão divididos em 3 arquivos diferentes: </p>\n",
    "<ul>\n",
    "<li>Locations: as localizações de cada estrutura.</li>\n",
    "<li>Places: as conexões entre as estruturas.</li>\n",
    "<li>Names: nomes das estruturas, sua traduções literais e lingua de origem.</li>\n",
    "</ul>\n",
    "<p>O próprio site fornece uma explicação breve dos atributos de cada arquivo e até faz sugestão de como unificá-los. A nota de <b>06/09/2019 13:46</b> foi usada como referência para organizar e filtrar os atributos considerados relevantes para o trabalho de visualização de dados: </p>\n",
    "\n",
    "<a href=\"http://atlantides.org/downloads/pleiades/dumps/README.txt\" >Explicação dos atributos</a>\n",
    "\n",
    "### Objetivo da limpeza\n",
    "<p>O processo de exploração do conteúdo dos datasets, a junção entre os arquivos e a filtragem dos atributos tem como principal objetivo preparar os dados para facilitar seu uso no trabalho final da disciplina de Visualização de Dados.</p>"
   ]
  },
  {
   "cell_type": "markdown",
   "metadata": {},
   "source": [
    "### PROCESSO DE LIMPEZA E GERAÇÃO DO DATASET PRINCIPAL:"
   ]
  },
  {
   "cell_type": "markdown",
   "metadata": {},
   "source": [
    "#### 1) Carregando as bibliotecas e os datasets"
   ]
  },
  {
   "cell_type": "code",
   "execution_count": 1,
   "metadata": {},
   "outputs": [],
   "source": [
    "import pandas as pd\n",
    "import re\n",
    "import numpy as np"
   ]
  },
  {
   "cell_type": "code",
   "execution_count": 2,
   "metadata": {},
   "outputs": [],
   "source": [
    "places = pd.read_csv('pleiades-places.csv')"
   ]
  },
  {
   "cell_type": "code",
   "execution_count": 3,
   "metadata": {},
   "outputs": [],
   "source": [
    "names = pd.read_csv('pleiades-names.csv')"
   ]
  },
  {
   "cell_type": "code",
   "execution_count": 4,
   "metadata": {},
   "outputs": [],
   "source": [
    "locations = pd.read_csv('pleiades-locations.csv')"
   ]
  },
  {
   "cell_type": "markdown",
   "metadata": {},
   "source": [
    "#### 2) Observando seus formatos"
   ]
  },
  {
   "cell_type": "code",
   "execution_count": 5,
   "metadata": {},
   "outputs": [
    {
     "data": {
      "text/plain": [
       "(37156, 26)"
      ]
     },
     "execution_count": 5,
     "metadata": {},
     "output_type": "execute_result"
    }
   ],
   "source": [
    "places.shape"
   ]
  },
  {
   "cell_type": "code",
   "execution_count": 6,
   "metadata": {},
   "outputs": [
    {
     "data": {
      "text/plain": [
       "(32972, 26)"
      ]
     },
     "execution_count": 6,
     "metadata": {},
     "output_type": "execute_result"
    }
   ],
   "source": [
    "names.shape"
   ]
  },
  {
   "cell_type": "code",
   "execution_count": 7,
   "metadata": {},
   "outputs": [
    {
     "data": {
      "text/plain": [
       "(40003, 25)"
      ]
     },
     "execution_count": 7,
     "metadata": {},
     "output_type": "execute_result"
    }
   ],
   "source": [
    "locations.shape"
   ]
  },
  {
   "cell_type": "markdown",
   "metadata": {},
   "source": [
    "#### 3) Observando os atributos\n",
    "<p><b>Atributos exclusivos encontrados em cada arquivo:</b></p>\n",
    "<ul>\n",
    "<li><b>Locations:</b> geometry (equivalente ao extent em places e names), featuresTypes e pid.</li>\n",
    "<li><b>Places:</b> connectsWith (outros locais aos quais um se conecta), hasConnectionWith (outros locais conecatos a um).</li>\n",
    "<li><b>Names:</b> nameAttested (pronúncia do nome), nameLanguage (lingua original do nome), nameTransliterated (tradução literal do nome).</li>\n",
    "</ul>\n",
    "<p><b>OBS: </b>Neste ponto algumas inconsistências foram encontradas entre a descrição auxiliar fornecida pelo Pleiades e o conteúdo dos csvs. Algumas colunas dadas como adicionais em uma rquivo estavam presentes nos outros dois (como featureTypes \"exclusivo\" de locations também presente em places e a equivalência de geometry à extent) e alguns atributos não foram encontrados (como avgRating e numRatings ausentes em names).</p>"
   ]
  },
  {
   "cell_type": "code",
   "execution_count": 8,
   "metadata": {},
   "outputs": [
    {
     "data": {
      "text/plain": [
       "authors                                          Becker, J., T. Elliott\n",
       "bbox                       13.4119837, 42.082885, 13.4119837, 42.082885\n",
       "connectsWith                                                     413005\n",
       "created                                            2016-11-04T16:36:09Z\n",
       "creators                                               jbecker, thomase\n",
       "currentVersion                                                        1\n",
       "description           The post-Roman settlement at Alba Fucens becam...\n",
       "extent                {\"type\": \"Point\", \"coordinates\": [13.4119837, ...\n",
       "featureTypes                                                 settlement\n",
       "geoContext                                                          NaN\n",
       "hasConnectionsWith                                                  NaN\n",
       "id                                                             48210385\n",
       "locationPrecision                                               precise\n",
       "maxDate                                                            1453\n",
       "minDate                                                             640\n",
       "modified                                           2016-11-08T21:58:28Z\n",
       "path                                                   /places/48210385\n",
       "reprLat                                                         42.0829\n",
       "reprLatLong                                        42.082885,13.4119837\n",
       "reprLong                                                         13.412\n",
       "tags                                                                NaN\n",
       "timePeriods                                                           M\n",
       "timePeriodsKeys                                     mediaeval-byzantine\n",
       "timePeriodsRange                                           640.0,1453.0\n",
       "title                                                   Borgo Medievale\n",
       "uid                                    ece5760c4c6d42c1a331aad543c4ecc4\n",
       "Name: 0, dtype: object"
      ]
     },
     "execution_count": 8,
     "metadata": {},
     "output_type": "execute_result"
    }
   ],
   "source": [
    "places.loc[0]"
   ]
  },
  {
   "cell_type": "code",
   "execution_count": 9,
   "metadata": {},
   "outputs": [
    {
     "data": {
      "text/plain": [
       "authors                                                     Becker, J.\n",
       "bbox                      13.4119837, 42.082885, 13.4119837, 42.082885\n",
       "created                                           2013-07-15T17:16:48Z\n",
       "creators                                                       jbecker\n",
       "currentVersion                                                       4\n",
       "description          The post-Roman settlement at Alba Fucens. Loca...\n",
       "featureType                                                settlement,\n",
       "geometry             {\"type\": \"Point\", \"coordinates\": [13.4119837, ...\n",
       "id                                        location-of-borgo-medioevale\n",
       "locationPrecision                                              precise\n",
       "locationType                                           representative,\n",
       "maxDate                                                           1453\n",
       "minDate                                                            640\n",
       "modified                                          2016-11-04T23:33:08Z\n",
       "path                     /places/48210385/location-of-borgo-medioevale\n",
       "pid                                                   /places/48210385\n",
       "reprLat                                                        42.0829\n",
       "reprLatLong                                       42.082885,13.4119837\n",
       "reprLong                                                        13.412\n",
       "tags                                                    extant remains\n",
       "timePeriods                                                          M\n",
       "timePeriodsKeys                                    mediaeval-byzantine\n",
       "timePeriodsRange                                          640.0,1453.0\n",
       "title                                  OSM location of Borgo Medievale\n",
       "uid                                   3e81cf966a1407978021141372c3f921\n",
       "Name: 0, dtype: object"
      ]
     },
     "execution_count": 9,
     "metadata": {},
     "output_type": "execute_result"
    }
   ],
   "source": [
    "locations.loc[0]"
   ]
  },
  {
   "cell_type": "code",
   "execution_count": 10,
   "metadata": {},
   "outputs": [
    {
     "data": {
      "text/plain": [
       "authors               Spann, P., R. Warner, R. Talbert, T. Elliott, ...\n",
       "bbox                         -3.606772, 39.460299, -3.606772, 39.460299\n",
       "created                                            2010-09-24T19:02:22Z\n",
       "creators                                                     P.O. Spann\n",
       "currentVersion                                                      NaN\n",
       "description                                                         NaN\n",
       "extent                {\"type\": \"Point\", \"coordinates\": [-3.606772, 3...\n",
       "id                                                            consabura\n",
       "locationPrecision                                               precise\n",
       "maxDate                                                             640\n",
       "minDate                                                            -330\n",
       "modified                                           2011-09-05T20:57:22Z\n",
       "nameAttested                                                        NaN\n",
       "nameLanguage                                                        NaN\n",
       "nameTransliterated                                            Consabura\n",
       "path                                           /places/265876/consabura\n",
       "pid                                                      /places/265876\n",
       "reprLat                                                         39.4603\n",
       "reprLatLong                                         39.460299,-3.606772\n",
       "reprLong                                                       -3.60677\n",
       "tags                                                                NaN\n",
       "timePeriods                                                         HRL\n",
       "timePeriodsKeys               hellenistic-republican,roman,late-antique\n",
       "timePeriodsRange                                           -330.0,640.0\n",
       "title                                                         Consabura\n",
       "uid                                    fc0ee157ff11ce6d2e72cd7c5df06fee\n",
       "Name: 0, dtype: object"
      ]
     },
     "execution_count": 10,
     "metadata": {},
     "output_type": "execute_result"
    }
   ],
   "source": [
    "names.loc[0]"
   ]
  },
  {
   "cell_type": "markdown",
   "metadata": {},
   "source": [
    "#### 4) Comparando uma mesma tupla\n",
    "<p>Após a escolha do id de um local, seus dados foram buscados e comparados nos 3 arquivos. Foi descoberto que no names um mesmo id pode ter mais de uma tupla, ou seja, um mesmo local pode ter mais de um nome, algo a ser levado em consideração e cuidado no momentode junção dos arquivos.</p>"
   ]
  },
  {
   "cell_type": "code",
   "execution_count": 11,
   "metadata": {},
   "outputs": [
    {
     "data": {
      "text/html": [
       "<div>\n",
       "<style scoped>\n",
       "    .dataframe tbody tr th:only-of-type {\n",
       "        vertical-align: middle;\n",
       "    }\n",
       "\n",
       "    .dataframe tbody tr th {\n",
       "        vertical-align: top;\n",
       "    }\n",
       "\n",
       "    .dataframe thead th {\n",
       "        text-align: right;\n",
       "    }\n",
       "</style>\n",
       "<table border=\"1\" class=\"dataframe\">\n",
       "  <thead>\n",
       "    <tr style=\"text-align: right;\">\n",
       "      <th></th>\n",
       "      <th>authors</th>\n",
       "      <th>bbox</th>\n",
       "      <th>connectsWith</th>\n",
       "      <th>created</th>\n",
       "      <th>creators</th>\n",
       "      <th>currentVersion</th>\n",
       "      <th>description</th>\n",
       "      <th>extent</th>\n",
       "      <th>featureTypes</th>\n",
       "      <th>geoContext</th>\n",
       "      <th>...</th>\n",
       "      <th>path</th>\n",
       "      <th>reprLat</th>\n",
       "      <th>reprLatLong</th>\n",
       "      <th>reprLong</th>\n",
       "      <th>tags</th>\n",
       "      <th>timePeriods</th>\n",
       "      <th>timePeriodsKeys</th>\n",
       "      <th>timePeriodsRange</th>\n",
       "      <th>title</th>\n",
       "      <th>uid</th>\n",
       "    </tr>\n",
       "  </thead>\n",
       "  <tbody>\n",
       "    <tr>\n",
       "      <th>2</th>\n",
       "      <td>Spann, P., DARMC, R. Talbert, S. Gillies, R. W...</td>\n",
       "      <td>-3.606772, 39.460299, -3.606772, 39.460299</td>\n",
       "      <td>NaN</td>\n",
       "      <td>2010-09-24T19:02:22Z</td>\n",
       "      <td>P.O. Spann</td>\n",
       "      <td>14.0</td>\n",
       "      <td>An ancient settlement, likely of Celtic origin...</td>\n",
       "      <td>{\"type\": \"Point\", \"coordinates\": [-3.606772, 3...</td>\n",
       "      <td>settlement</td>\n",
       "      <td>Consuegra</td>\n",
       "      <td>...</td>\n",
       "      <td>/places/265876</td>\n",
       "      <td>39.460299</td>\n",
       "      <td>39.460299,-3.606772</td>\n",
       "      <td>-3.606772</td>\n",
       "      <td>dare:ancient=1, dare:major=1, dare:feature=maj...</td>\n",
       "      <td>HRL</td>\n",
       "      <td>hellenistic-republican,roman,late-antique</td>\n",
       "      <td>-330.0,640.0</td>\n",
       "      <td>Consabura/Consabrum</td>\n",
       "      <td>3fb26862377912da0f866fc310bcaf0c</td>\n",
       "    </tr>\n",
       "  </tbody>\n",
       "</table>\n",
       "<p>1 rows × 26 columns</p>\n",
       "</div>"
      ],
      "text/plain": [
       "                                             authors  \\\n",
       "2  Spann, P., DARMC, R. Talbert, S. Gillies, R. W...   \n",
       "\n",
       "                                         bbox connectsWith  \\\n",
       "2  -3.606772, 39.460299, -3.606772, 39.460299          NaN   \n",
       "\n",
       "                created    creators  currentVersion  \\\n",
       "2  2010-09-24T19:02:22Z  P.O. Spann            14.0   \n",
       "\n",
       "                                         description  \\\n",
       "2  An ancient settlement, likely of Celtic origin...   \n",
       "\n",
       "                                              extent featureTypes geoContext  \\\n",
       "2  {\"type\": \"Point\", \"coordinates\": [-3.606772, 3...   settlement  Consuegra   \n",
       "\n",
       "   ...            path    reprLat          reprLatLong  reprLong  \\\n",
       "2  ...  /places/265876  39.460299  39.460299,-3.606772 -3.606772   \n",
       "\n",
       "                                                tags timePeriods  \\\n",
       "2  dare:ancient=1, dare:major=1, dare:feature=maj...         HRL   \n",
       "\n",
       "                             timePeriodsKeys  timePeriodsRange  \\\n",
       "2  hellenistic-republican,roman,late-antique      -330.0,640.0   \n",
       "\n",
       "                 title                               uid  \n",
       "2  Consabura/Consabrum  3fb26862377912da0f866fc310bcaf0c  \n",
       "\n",
       "[1 rows x 26 columns]"
      ]
     },
     "execution_count": 11,
     "metadata": {},
     "output_type": "execute_result"
    }
   ],
   "source": [
    "places.loc[places['id'] == 265876]"
   ]
  },
  {
   "cell_type": "code",
   "execution_count": 12,
   "metadata": {
    "scrolled": true
   },
   "outputs": [
    {
     "data": {
      "text/html": [
       "<div>\n",
       "<style scoped>\n",
       "    .dataframe tbody tr th:only-of-type {\n",
       "        vertical-align: middle;\n",
       "    }\n",
       "\n",
       "    .dataframe tbody tr th {\n",
       "        vertical-align: top;\n",
       "    }\n",
       "\n",
       "    .dataframe thead th {\n",
       "        text-align: right;\n",
       "    }\n",
       "</style>\n",
       "<table border=\"1\" class=\"dataframe\">\n",
       "  <thead>\n",
       "    <tr style=\"text-align: right;\">\n",
       "      <th></th>\n",
       "      <th>authors</th>\n",
       "      <th>bbox</th>\n",
       "      <th>created</th>\n",
       "      <th>creators</th>\n",
       "      <th>currentVersion</th>\n",
       "      <th>description</th>\n",
       "      <th>featureType</th>\n",
       "      <th>geometry</th>\n",
       "      <th>id</th>\n",
       "      <th>locationPrecision</th>\n",
       "      <th>...</th>\n",
       "      <th>pid</th>\n",
       "      <th>reprLat</th>\n",
       "      <th>reprLatLong</th>\n",
       "      <th>reprLong</th>\n",
       "      <th>tags</th>\n",
       "      <th>timePeriods</th>\n",
       "      <th>timePeriodsKeys</th>\n",
       "      <th>timePeriodsRange</th>\n",
       "      <th>title</th>\n",
       "      <th>uid</th>\n",
       "    </tr>\n",
       "  </thead>\n",
       "  <tbody>\n",
       "    <tr>\n",
       "      <th>2</th>\n",
       "      <td>Spann, P., D. R. Talbert, T. Elliott, S. Gillies</td>\n",
       "      <td>-3.606772, 39.460299, -3.606772, 39.460299</td>\n",
       "      <td>2011-03-10T00:05:52Z</td>\n",
       "      <td>P.O. Spann</td>\n",
       "      <td>1.0</td>\n",
       "      <td>1M scale point location</td>\n",
       "      <td>unknown</td>\n",
       "      <td>{\"type\": \"Point\", \"coordinates\": [-3.606772, 3...</td>\n",
       "      <td>darmc-location-20192</td>\n",
       "      <td>precise</td>\n",
       "      <td>...</td>\n",
       "      <td>/places/265876</td>\n",
       "      <td>39.460299</td>\n",
       "      <td>39.460299,-3.606772</td>\n",
       "      <td>-3.606772</td>\n",
       "      <td>NaN</td>\n",
       "      <td>HRL</td>\n",
       "      <td>hellenistic-republican,roman,late-antique</td>\n",
       "      <td>-330.0,640.0</td>\n",
       "      <td>DARMC location 20192</td>\n",
       "      <td>62e35ae520c733fd1b3d538cfc93024d</td>\n",
       "    </tr>\n",
       "  </tbody>\n",
       "</table>\n",
       "<p>1 rows × 25 columns</p>\n",
       "</div>"
      ],
      "text/plain": [
       "                                            authors  \\\n",
       "2  Spann, P., D. R. Talbert, T. Elliott, S. Gillies   \n",
       "\n",
       "                                         bbox               created  \\\n",
       "2  -3.606772, 39.460299, -3.606772, 39.460299  2011-03-10T00:05:52Z   \n",
       "\n",
       "     creators  currentVersion              description featureType  \\\n",
       "2  P.O. Spann             1.0  1M scale point location     unknown   \n",
       "\n",
       "                                            geometry                    id  \\\n",
       "2  {\"type\": \"Point\", \"coordinates\": [-3.606772, 3...  darmc-location-20192   \n",
       "\n",
       "  locationPrecision  ...             pid    reprLat          reprLatLong  \\\n",
       "2           precise  ...  /places/265876  39.460299  39.460299,-3.606772   \n",
       "\n",
       "   reprLong tags timePeriods                            timePeriodsKeys  \\\n",
       "2 -3.606772  NaN         HRL  hellenistic-republican,roman,late-antique   \n",
       "\n",
       "  timePeriodsRange                 title                               uid  \n",
       "2     -330.0,640.0  DARMC location 20192  62e35ae520c733fd1b3d538cfc93024d  \n",
       "\n",
       "[1 rows x 25 columns]"
      ]
     },
     "execution_count": 12,
     "metadata": {},
     "output_type": "execute_result"
    }
   ],
   "source": [
    "locations.loc[locations['pid'] == '/places/265876']"
   ]
  },
  {
   "cell_type": "code",
   "execution_count": 13,
   "metadata": {},
   "outputs": [
    {
     "data": {
      "text/html": [
       "<div>\n",
       "<style scoped>\n",
       "    .dataframe tbody tr th:only-of-type {\n",
       "        vertical-align: middle;\n",
       "    }\n",
       "\n",
       "    .dataframe tbody tr th {\n",
       "        vertical-align: top;\n",
       "    }\n",
       "\n",
       "    .dataframe thead th {\n",
       "        text-align: right;\n",
       "    }\n",
       "</style>\n",
       "<table border=\"1\" class=\"dataframe\">\n",
       "  <thead>\n",
       "    <tr style=\"text-align: right;\">\n",
       "      <th></th>\n",
       "      <th>authors</th>\n",
       "      <th>bbox</th>\n",
       "      <th>created</th>\n",
       "      <th>creators</th>\n",
       "      <th>currentVersion</th>\n",
       "      <th>description</th>\n",
       "      <th>extent</th>\n",
       "      <th>id</th>\n",
       "      <th>locationPrecision</th>\n",
       "      <th>maxDate</th>\n",
       "      <th>...</th>\n",
       "      <th>pid</th>\n",
       "      <th>reprLat</th>\n",
       "      <th>reprLatLong</th>\n",
       "      <th>reprLong</th>\n",
       "      <th>tags</th>\n",
       "      <th>timePeriods</th>\n",
       "      <th>timePeriodsKeys</th>\n",
       "      <th>timePeriodsRange</th>\n",
       "      <th>title</th>\n",
       "      <th>uid</th>\n",
       "    </tr>\n",
       "  </thead>\n",
       "  <tbody>\n",
       "    <tr>\n",
       "      <th>0</th>\n",
       "      <td>Spann, P., R. Warner, R. Talbert, T. Elliott, ...</td>\n",
       "      <td>-3.606772, 39.460299, -3.606772, 39.460299</td>\n",
       "      <td>2010-09-24T19:02:22Z</td>\n",
       "      <td>P.O. Spann</td>\n",
       "      <td>NaN</td>\n",
       "      <td>NaN</td>\n",
       "      <td>{\"type\": \"Point\", \"coordinates\": [-3.606772, 3...</td>\n",
       "      <td>consabura</td>\n",
       "      <td>precise</td>\n",
       "      <td>640.0</td>\n",
       "      <td>...</td>\n",
       "      <td>/places/265876</td>\n",
       "      <td>39.460299</td>\n",
       "      <td>39.460299,-3.606772</td>\n",
       "      <td>-3.606772</td>\n",
       "      <td>NaN</td>\n",
       "      <td>HRL</td>\n",
       "      <td>hellenistic-republican,roman,late-antique</td>\n",
       "      <td>-330.0,640.0</td>\n",
       "      <td>Consabura</td>\n",
       "      <td>fc0ee157ff11ce6d2e72cd7c5df06fee</td>\n",
       "    </tr>\n",
       "    <tr>\n",
       "      <th>1</th>\n",
       "      <td>Spann, P., R. Warner, R. Talbert, T. Elliott, ...</td>\n",
       "      <td>-3.606772, 39.460299, -3.606772, 39.460299</td>\n",
       "      <td>2010-09-24T19:02:22Z</td>\n",
       "      <td>P.O. Spann</td>\n",
       "      <td>NaN</td>\n",
       "      <td>NaN</td>\n",
       "      <td>{\"type\": \"Point\", \"coordinates\": [-3.606772, 3...</td>\n",
       "      <td>consabrum</td>\n",
       "      <td>precise</td>\n",
       "      <td>640.0</td>\n",
       "      <td>...</td>\n",
       "      <td>/places/265876</td>\n",
       "      <td>39.460299</td>\n",
       "      <td>39.460299,-3.606772</td>\n",
       "      <td>-3.606772</td>\n",
       "      <td>NaN</td>\n",
       "      <td>HRL</td>\n",
       "      <td>hellenistic-republican,roman,late-antique</td>\n",
       "      <td>-330.0,640.0</td>\n",
       "      <td>Consabrum</td>\n",
       "      <td>e2b8756302fb62ff0e301710c265a3e6</td>\n",
       "    </tr>\n",
       "    <tr>\n",
       "      <th>2</th>\n",
       "      <td>Spann, P., R. Warner, R. Talbert, T. Elliott, ...</td>\n",
       "      <td>-3.606772, 39.460299, -3.606772, 39.460299</td>\n",
       "      <td>2010-09-24T19:02:22Z</td>\n",
       "      <td>P.O. Spann</td>\n",
       "      <td>NaN</td>\n",
       "      <td>NaN</td>\n",
       "      <td>{\"type\": \"Point\", \"coordinates\": [-3.606772, 3...</td>\n",
       "      <td>kondabora</td>\n",
       "      <td>precise</td>\n",
       "      <td>640.0</td>\n",
       "      <td>...</td>\n",
       "      <td>/places/265876</td>\n",
       "      <td>39.460299</td>\n",
       "      <td>39.460299,-3.606772</td>\n",
       "      <td>-3.606772</td>\n",
       "      <td>NaN</td>\n",
       "      <td>HRL</td>\n",
       "      <td>hellenistic-republican,roman,late-antique</td>\n",
       "      <td>-330.0,640.0</td>\n",
       "      <td>Kondabora</td>\n",
       "      <td>f742b67b8343a6c68f222fbf607dcbf9</td>\n",
       "    </tr>\n",
       "    <tr>\n",
       "      <th>3</th>\n",
       "      <td>Becker, J.</td>\n",
       "      <td>-4.0, 39.0, -3.0, 40.0</td>\n",
       "      <td>2016-02-08T23:21:01Z</td>\n",
       "      <td>jbecker</td>\n",
       "      <td>0.0</td>\n",
       "      <td>An ethnic name used by Pliny the Elder.</td>\n",
       "      <td>{\"type\": \"Polygon\", \"coordinates\": [[[-4.0, 39...</td>\n",
       "      <td>consaburrenses</td>\n",
       "      <td>precise</td>\n",
       "      <td>300.0</td>\n",
       "      <td>...</td>\n",
       "      <td>/places/265876</td>\n",
       "      <td>39.460299</td>\n",
       "      <td>39.460299,-3.606772</td>\n",
       "      <td>-3.606772</td>\n",
       "      <td>NaN</td>\n",
       "      <td>R</td>\n",
       "      <td>roman</td>\n",
       "      <td>-30.0,300.0</td>\n",
       "      <td>Consaburrenses</td>\n",
       "      <td>ddc6939eba8aaf3729e6c254dedc90e4</td>\n",
       "    </tr>\n",
       "  </tbody>\n",
       "</table>\n",
       "<p>4 rows × 26 columns</p>\n",
       "</div>"
      ],
      "text/plain": [
       "                                             authors  \\\n",
       "0  Spann, P., R. Warner, R. Talbert, T. Elliott, ...   \n",
       "1  Spann, P., R. Warner, R. Talbert, T. Elliott, ...   \n",
       "2  Spann, P., R. Warner, R. Talbert, T. Elliott, ...   \n",
       "3                                         Becker, J.   \n",
       "\n",
       "                                         bbox               created  \\\n",
       "0  -3.606772, 39.460299, -3.606772, 39.460299  2010-09-24T19:02:22Z   \n",
       "1  -3.606772, 39.460299, -3.606772, 39.460299  2010-09-24T19:02:22Z   \n",
       "2  -3.606772, 39.460299, -3.606772, 39.460299  2010-09-24T19:02:22Z   \n",
       "3                      -4.0, 39.0, -3.0, 40.0  2016-02-08T23:21:01Z   \n",
       "\n",
       "     creators  currentVersion                              description  \\\n",
       "0  P.O. Spann             NaN                                      NaN   \n",
       "1  P.O. Spann             NaN                                      NaN   \n",
       "2  P.O. Spann             NaN                                      NaN   \n",
       "3     jbecker             0.0  An ethnic name used by Pliny the Elder.   \n",
       "\n",
       "                                              extent              id  \\\n",
       "0  {\"type\": \"Point\", \"coordinates\": [-3.606772, 3...       consabura   \n",
       "1  {\"type\": \"Point\", \"coordinates\": [-3.606772, 3...       consabrum   \n",
       "2  {\"type\": \"Point\", \"coordinates\": [-3.606772, 3...       kondabora   \n",
       "3  {\"type\": \"Polygon\", \"coordinates\": [[[-4.0, 39...  consaburrenses   \n",
       "\n",
       "  locationPrecision  maxDate  ...             pid    reprLat  \\\n",
       "0           precise    640.0  ...  /places/265876  39.460299   \n",
       "1           precise    640.0  ...  /places/265876  39.460299   \n",
       "2           precise    640.0  ...  /places/265876  39.460299   \n",
       "3           precise    300.0  ...  /places/265876  39.460299   \n",
       "\n",
       "           reprLatLong  reprLong tags timePeriods  \\\n",
       "0  39.460299,-3.606772 -3.606772  NaN         HRL   \n",
       "1  39.460299,-3.606772 -3.606772  NaN         HRL   \n",
       "2  39.460299,-3.606772 -3.606772  NaN         HRL   \n",
       "3  39.460299,-3.606772 -3.606772  NaN           R   \n",
       "\n",
       "                             timePeriodsKeys  timePeriodsRange  \\\n",
       "0  hellenistic-republican,roman,late-antique      -330.0,640.0   \n",
       "1  hellenistic-republican,roman,late-antique      -330.0,640.0   \n",
       "2  hellenistic-republican,roman,late-antique      -330.0,640.0   \n",
       "3                                      roman       -30.0,300.0   \n",
       "\n",
       "            title                               uid  \n",
       "0       Consabura  fc0ee157ff11ce6d2e72cd7c5df06fee  \n",
       "1       Consabrum  e2b8756302fb62ff0e301710c265a3e6  \n",
       "2       Kondabora  f742b67b8343a6c68f222fbf607dcbf9  \n",
       "3  Consaburrenses  ddc6939eba8aaf3729e6c254dedc90e4  \n",
       "\n",
       "[4 rows x 26 columns]"
      ]
     },
     "execution_count": 13,
     "metadata": {},
     "output_type": "execute_result"
    }
   ],
   "source": [
    "names.loc[names['pid'] == '/places/265876']"
   ]
  },
  {
   "cell_type": "markdown",
   "metadata": {},
   "source": [
    "#### 5) Observando duplicações\n",
    "<p>Por não apresentar repetições, <b>places</b> foi escolhido como arquivo principal. Foi gerada uma lista com os ids que aparecem mais de uma vez para cada arquivo que apresenta duplicações.</p>"
   ]
  },
  {
   "cell_type": "code",
   "execution_count": 14,
   "metadata": {},
   "outputs": [],
   "source": [
    "def getDups(dataset, c):\n",
    "    num = 0\n",
    "    if (c == 0):\n",
    "        dd = dataset.pivot_table(index=['pid'], aggfunc='size')\n",
    "    else:\n",
    "        dd = dataset.pivot_table(index=['id'], aggfunc='size')\n",
    "    l = []\n",
    "    for x in range(len(dd)):\n",
    "        if(dd.iloc[x] > 1):\n",
    "            num = num + 1\n",
    "            l.append(dd.index[x])\n",
    "    print(str(num) + '/' + str(len(dataset)))\n",
    "    return l"
   ]
  },
  {
   "cell_type": "code",
   "execution_count": 15,
   "metadata": {},
   "outputs": [
    {
     "name": "stdout",
     "output_type": "stream",
     "text": [
      "0/37156\n"
     ]
    }
   ],
   "source": [
    "dubP = getDups(places,1)"
   ]
  },
  {
   "cell_type": "code",
   "execution_count": 16,
   "metadata": {},
   "outputs": [
    {
     "name": "stdout",
     "output_type": "stream",
     "text": [
      "2987/40003\n"
     ]
    }
   ],
   "source": [
    "dubL = getDups(locations, 0)"
   ]
  },
  {
   "cell_type": "code",
   "execution_count": 17,
   "metadata": {},
   "outputs": [
    {
     "name": "stdout",
     "output_type": "stream",
     "text": [
      "5200/32972\n"
     ]
    }
   ],
   "source": [
    "dubN = getDups(names, 0)"
   ]
  },
  {
   "cell_type": "markdown",
   "metadata": {},
   "source": [
    "#### 6) Selecionando atributos e removendo os desnecessários\n",
    "<p>Os seguintes atributos de cada arquivo foram considerados relevantes para a visualização do trabalho:</p>\n",
    "<ul>\n",
    "<li><b>Places:</b> id, title, maxDate, minDate, description, timePeriodsKeys, tags, connectsWith, hasConnectionsWith, reprLat, reprLong, bbox, extent.</li>\n",
    "<li><b>Locations:</b> featureType.</li>\n",
    "<li><b>Names:</b> nameAttested, nameLanguage, nameTransliterated.</li>\n",
    "</ul>\n",
    "<p><b>OBS: </b>Atributos não listados foram descatados por não serem relevantes (como autor, data de alteração da tupla, etc) ou por serem redundantes (como reprLatLong ser a junção de reprLat com reprLong).</p>"
   ]
  },
  {
   "cell_type": "markdown",
   "metadata": {},
   "source": [
    "#### 7) Pre-filtragem de atributos\n",
    "<p>Os atributos definitivamente desnecessários foram removidos. Alguns ainda foram mantidos para que posteriormente seja feito um merge entre os arquivos para se obter o maior volume de dados possível.</p>"
   ]
  },
  {
   "cell_type": "code",
   "execution_count": 18,
   "metadata": {},
   "outputs": [],
   "source": [
    "places = places.filter(items=['id','title','maxDate','minDate','description','timePeriodsKeys','tags',\n",
    "                              'connectsWith','hasConnectionsWith','reprLat','reprLong','bbox','extent'])"
   ]
  },
  {
   "cell_type": "code",
   "execution_count": 19,
   "metadata": {
    "scrolled": true
   },
   "outputs": [
    {
     "data": {
      "text/plain": [
       "id                                                             48210385\n",
       "title                                                   Borgo Medievale\n",
       "maxDate                                                            1453\n",
       "minDate                                                             640\n",
       "description           The post-Roman settlement at Alba Fucens becam...\n",
       "timePeriodsKeys                                     mediaeval-byzantine\n",
       "tags                                                                NaN\n",
       "connectsWith                                                     413005\n",
       "hasConnectionsWith                                                  NaN\n",
       "reprLat                                                         42.0829\n",
       "reprLong                                                         13.412\n",
       "bbox                       13.4119837, 42.082885, 13.4119837, 42.082885\n",
       "extent                {\"type\": \"Point\", \"coordinates\": [13.4119837, ...\n",
       "Name: 0, dtype: object"
      ]
     },
     "execution_count": 19,
     "metadata": {},
     "output_type": "execute_result"
    }
   ],
   "source": [
    "places.loc[0]"
   ]
  },
  {
   "cell_type": "code",
   "execution_count": 20,
   "metadata": {},
   "outputs": [],
   "source": [
    "locations = locations.filter(items=['pid','featureType','maxDate','minDate','description',\n",
    "                                    'timePeriodsKeys','tags','reprLat','reprLong','bbox','geometry'])"
   ]
  },
  {
   "cell_type": "code",
   "execution_count": 21,
   "metadata": {},
   "outputs": [
    {
     "data": {
      "text/plain": [
       "pid                                                 /places/48210385\n",
       "featureType                                              settlement,\n",
       "maxDate                                                         1453\n",
       "minDate                                                          640\n",
       "description        The post-Roman settlement at Alba Fucens. Loca...\n",
       "timePeriodsKeys                                  mediaeval-byzantine\n",
       "tags                                                  extant remains\n",
       "reprLat                                                      42.0829\n",
       "reprLong                                                      13.412\n",
       "bbox                    13.4119837, 42.082885, 13.4119837, 42.082885\n",
       "geometry           {\"type\": \"Point\", \"coordinates\": [13.4119837, ...\n",
       "Name: 0, dtype: object"
      ]
     },
     "execution_count": 21,
     "metadata": {},
     "output_type": "execute_result"
    }
   ],
   "source": [
    "locations.loc[0]"
   ]
  },
  {
   "cell_type": "code",
   "execution_count": 22,
   "metadata": {},
   "outputs": [],
   "source": [
    "names = names.filter(items=['pid','nameAttested','nameLanguage','nameTransliterated'])"
   ]
  },
  {
   "cell_type": "code",
   "execution_count": 23,
   "metadata": {},
   "outputs": [
    {
     "data": {
      "text/plain": [
       "pid                   /places/265876\n",
       "nameAttested                     NaN\n",
       "nameLanguage                     NaN\n",
       "nameTransliterated         Consabura\n",
       "Name: 0, dtype: object"
      ]
     },
     "execution_count": 23,
     "metadata": {},
     "output_type": "execute_result"
    }
   ],
   "source": [
    "names.loc[0]"
   ]
  },
  {
   "cell_type": "markdown",
   "metadata": {},
   "source": [
    "#### 8) Adaptando alguns tipos\n",
    "<p>Alguns atributos, como tags e featureTypes, foram re-organizados para facilitar sua leitura na visualização. Além disso, algumas tags e ids estavam repetidas dentro de uma mesma célula de um mesmo atributo, estas repetições também foram descartadas, e alguns dados com espaços e caracteres desnecessários, ou que poderiam atrapalhar na visualização posteriormente, foram limpos com uso de regular expressions.</p>"
   ]
  },
  {
   "cell_type": "code",
   "execution_count": 24,
   "metadata": {},
   "outputs": [],
   "source": [
    "def fixingDataTypes(dataset, c):\n",
    "    for i in range(len(dataset.index)):\n",
    "\n",
    "        if(c == 0):\n",
    "            idd = int(re.search(r'\\d+', str(dataset.at[i, 'id'])).group(0)) #Remove espaços estranho antes dos ids\n",
    "            dataset.at[i, 'id'] = idd\n",
    "            \n",
    "            ################################ FIXING CONNECTIONS\n",
    "        \n",
    "            cw = str(dataset.at[i, 'connectsWith'])\n",
    "            if(cw == \"nan\"):\n",
    "                dataset.at[i, 'connectsWith'] = []\n",
    "            else:\n",
    "                cw = cw.split(\",\")\n",
    "                if(cw[-1] == ''):\n",
    "                    cw = cw[:-1]\n",
    "                for w in range(len(cw)):\n",
    "                    cw[w] = re.search(r'\\d+', str(cw)).group(0)\n",
    "                cw = list(set([int(x) for x in cw]))\n",
    "                dataset.at[i, 'connectsWith'] = cw\n",
    "\n",
    "            ################################ FIXING CONNECTED\n",
    "\n",
    "            hc = str(dataset.at[i, 'hasConnectionsWith'])\n",
    "            if(hc == \"nan\"):\n",
    "                dataset.at[i, 'hasConnectionsWith'] = []\n",
    "            else:\n",
    "                hc = hc.split(\",\")\n",
    "                if(hc[-1] == ''):\n",
    "                    hc = hc[:-1]\n",
    "                for w in range(len(hc)):\n",
    "                    hc[w] = re.search(r'\\d+', str(hc)).group(0)\n",
    "                hc = list(set([int(x) for x in hc]))\n",
    "                dataset.at[i, 'hasConnectionsWith'] = hc\n",
    "        \n",
    "        elif(c == 1):\n",
    "            idd = int(re.search(r'\\d+', str(dataset.at[i, 'pid'])).group(0))\n",
    "            dataset.at[i, 'pid'] = idd\n",
    "            \n",
    "            ################################ FIXING FEATURETYPE\n",
    "            \n",
    "            feature = str(dataset.at[i, 'featureType'])\n",
    "            if(feature == \"nan\"):\n",
    "                dataset.at[i, 'featureType'] = ['unknown']\n",
    "            else:\n",
    "                feature = feature.split(\",\")\n",
    "                if(feature[-1] == ''):\n",
    "                    feature = feature[:-1]\n",
    "                for w in range(len(feature)):\n",
    "                    feature[w] = re.sub(r'^\\s{1,}', '', feature[w])\n",
    "                feature = list(set(feature))\n",
    "                dataset.at[i, 'featureType'] = feature\n",
    "        \n",
    "        else:\n",
    "            idd = int(re.search(r'\\d+', str(dataset.at[i, 'pid'])).group(0))\n",
    "            dataset.at[i, 'pid'] = idd\n",
    "            \n",
    "            ################################ FIXING NAMEATTES\n",
    "        \n",
    "            na = str(dataset.at[i, 'nameAttested'])\n",
    "            if(na == \"nan\"):\n",
    "                dataset.at[i, 'nameAttested'] = ['unknown']\n",
    "            else:\n",
    "                na = na.split(\",\")\n",
    "                if(na[-1] == ''):\n",
    "                    na = na[:-1]\n",
    "                for w in range(len(na)):\n",
    "                    na[w] = re.sub(r'^\\s{1,}', '', na[w])\n",
    "                na = list(set(na))\n",
    "                dataset.at[i, 'nameAttested'] = na\n",
    "\n",
    "            ################################ FIXING LANGUAGE\n",
    "\n",
    "            nl = str(dataset.at[i, 'nameLanguage'])\n",
    "            if(nl == \"nan\"):\n",
    "                dataset.at[i, 'nameLanguage'] = ['unknown']\n",
    "            else:\n",
    "                nl = nl.split(\",\")\n",
    "                if(nl[-1] == ''):\n",
    "                    nl = nl[:-1]\n",
    "                for w in range(len(nl)):\n",
    "                    nl[w] = re.sub(r'^\\s{1,}', '', nl[w])\n",
    "                nl = list(set(nl))\n",
    "                dataset.at[i, 'nameLanguage'] = nl\n",
    "\n",
    "            ################################ FIXING TRANSLITERATION\n",
    "\n",
    "            nt = str(dataset.at[i, 'nameTransliterated'])\n",
    "            if(nt == \"nan\"):\n",
    "                dataset.at[i, 'nameTransliterated'] = ['unknown']\n",
    "            else:\n",
    "                nt = nt.split(\",\")\n",
    "                if(nt[-1] == ''):\n",
    "                    nt = nt[:-1]\n",
    "                for w in range(len(nt)):\n",
    "                    nt[w] = re.sub(r'^\\s{1,}', '', nt[w])\n",
    "                nt = list(set(nt))\n",
    "                dataset.at[i, 'nameTransliterated'] = nt\n",
    "            \n",
    "        \n",
    "        if(c == 0 or c == 1):\n",
    "        \n",
    "            ################################ FIXING MAXDATE\n",
    "\n",
    "            maxd = str(dataset.at[i, 'maxDate'])\n",
    "            if(maxd != \"nan\"):\n",
    "                dataset.at[i, 'maxDate'] = int(float(maxd))              \n",
    "\n",
    "            ################################ FIXING MINDATE\n",
    "\n",
    "            mind = str(dataset.at[i, 'minDate'])\n",
    "            if(mind != \"nan\"):\n",
    "                dataset.at[i, 'minDate'] = int(float(mind))         \n",
    "\n",
    "            ################################ FIXING TIMEPERIODS\n",
    "\n",
    "            pkeys = str(dataset.at[i, 'timePeriodsKeys'])  \n",
    "            if(pkeys == \"nan\"):\n",
    "                dataset.at[i, 'timePeriodsKeys'] = ['unknown']\n",
    "            else:\n",
    "                pkeys = pkeys.split(\",\")\n",
    "                if(pkeys[-1] == ''):\n",
    "                    pkeys = pkeys[:-1]\n",
    "                for w in range(len(pkeys)):\n",
    "                    pkeys[w] = re.sub(r'^\\s{1,}', '', pkeys[w])\n",
    "                pkeys = list(set(pkeys))\n",
    "                dataset.at[i, 'timePeriodsKeys'] = pkeys\n",
    "            \n",
    "            ################################ FIXING TAGS\n",
    "            \n",
    "            tag = str(dataset.at[i, 'tags'])\n",
    "            if(tag == \"nan\"):\n",
    "                dataset.at[i, 'tags'] = []\n",
    "            else:\n",
    "                tag = tag.split(\",\")\n",
    "                if(tag[-1] == ''):\n",
    "                    tag = tag[:-1]\n",
    "                for w in range(len(tag)):\n",
    "                    tag[w] = re.sub(r'^\\s{1,}', '', tag[w])\n",
    "                tag = list(set(tag))\n",
    "                dataset.at[i, 'tags'] = tag\n",
    "            \n",
    "            ################################ FIXING BBOX\n",
    "            \n",
    "            box = str(dataset.at[i, 'bbox'])\n",
    "            if(box == \"nan\"):\n",
    "                dataset.at[i, 'bbox'] = []\n",
    "            else:\n",
    "                box = box.split(\",\")\n",
    "                if(box[-1] == ''):\n",
    "                    box = box[:-1]\n",
    "                for w in range(len(box)):\n",
    "                    box[w] = re.sub(r'^\\s{1,}', '', box[w])\n",
    "                box = [float(x) for x in box]\n",
    "                dataset.at[i, 'bbox'] = box\n",
    "                "
   ]
  },
  {
   "cell_type": "code",
   "execution_count": 25,
   "metadata": {},
   "outputs": [],
   "source": [
    "fixingDataTypes(places, 0)"
   ]
  },
  {
   "cell_type": "code",
   "execution_count": 26,
   "metadata": {},
   "outputs": [
    {
     "data": {
      "text/plain": [
       "id                                                             48210385\n",
       "title                                                   Borgo Medievale\n",
       "maxDate                                                            1453\n",
       "minDate                                                             640\n",
       "description           The post-Roman settlement at Alba Fucens becam...\n",
       "timePeriodsKeys                                   [mediaeval-byzantine]\n",
       "tags                                                                 []\n",
       "connectsWith                                                   [413005]\n",
       "hasConnectionsWith                                                   []\n",
       "reprLat                                                         42.0829\n",
       "reprLong                                                         13.412\n",
       "bbox                     [13.4119837, 42.082885, 13.4119837, 42.082885]\n",
       "extent                {\"type\": \"Point\", \"coordinates\": [13.4119837, ...\n",
       "Name: 0, dtype: object"
      ]
     },
     "execution_count": 26,
     "metadata": {},
     "output_type": "execute_result"
    }
   ],
   "source": [
    "places.loc[0]"
   ]
  },
  {
   "cell_type": "code",
   "execution_count": 27,
   "metadata": {},
   "outputs": [],
   "source": [
    "fixingDataTypes(locations, 1)"
   ]
  },
  {
   "cell_type": "code",
   "execution_count": 28,
   "metadata": {},
   "outputs": [
    {
     "data": {
      "text/plain": [
       "pid                                                         48210385\n",
       "featureType                                             [settlement]\n",
       "maxDate                                                         1453\n",
       "minDate                                                          640\n",
       "description        The post-Roman settlement at Alba Fucens. Loca...\n",
       "timePeriodsKeys                                [mediaeval-byzantine]\n",
       "tags                                                [extant remains]\n",
       "reprLat                                                      42.0829\n",
       "reprLong                                                      13.412\n",
       "bbox                  [13.4119837, 42.082885, 13.4119837, 42.082885]\n",
       "geometry           {\"type\": \"Point\", \"coordinates\": [13.4119837, ...\n",
       "Name: 0, dtype: object"
      ]
     },
     "execution_count": 28,
     "metadata": {},
     "output_type": "execute_result"
    }
   ],
   "source": [
    "locations.loc[0]"
   ]
  },
  {
   "cell_type": "code",
   "execution_count": 29,
   "metadata": {},
   "outputs": [],
   "source": [
    "fixingDataTypes(names, 2)"
   ]
  },
  {
   "cell_type": "code",
   "execution_count": 30,
   "metadata": {},
   "outputs": [
    {
     "data": {
      "text/plain": [
       "pid                        265876\n",
       "nameAttested            [unknown]\n",
       "nameLanguage            [unknown]\n",
       "nameTransliterated    [Consabura]\n",
       "Name: 0, dtype: object"
      ]
     },
     "execution_count": 30,
     "metadata": {},
     "output_type": "execute_result"
    }
   ],
   "source": [
    "names.loc[0]"
   ]
  },
  {
   "cell_type": "markdown",
   "metadata": {},
   "source": [
    "<p><b>Salvando o progresso até agora...</b></p>"
   ]
  },
  {
   "cell_type": "code",
   "execution_count": 31,
   "metadata": {},
   "outputs": [],
   "source": [
    "places.to_csv('PlacesPV.csv', index=False)"
   ]
  },
  {
   "cell_type": "code",
   "execution_count": 32,
   "metadata": {},
   "outputs": [],
   "source": [
    "locations.to_csv('LocationsPV.csv', index=False)"
   ]
  },
  {
   "cell_type": "code",
   "execution_count": 33,
   "metadata": {},
   "outputs": [],
   "source": [
    "names.to_csv('NamesPV.csv', index=False)"
   ]
  },
  {
   "cell_type": "markdown",
   "metadata": {},
   "source": [
    "#### 9) Filtrando identificadores repetidos em um mesmo arquivo\n",
    "<p>O objetivo desta etapa é fazer o merge de tuplas repetidas em um mesmo arquivo.</p>"
   ]
  },
  {
   "cell_type": "code",
   "execution_count": 34,
   "metadata": {},
   "outputs": [],
   "source": [
    "ppv = places.copy()"
   ]
  },
  {
   "cell_type": "code",
   "execution_count": 35,
   "metadata": {},
   "outputs": [],
   "source": [
    "lpv = locations.copy()"
   ]
  },
  {
   "cell_type": "code",
   "execution_count": 36,
   "metadata": {},
   "outputs": [],
   "source": [
    "npv = names.copy()"
   ]
  },
  {
   "cell_type": "markdown",
   "metadata": {},
   "source": [
    "<p><b>Recordando as cópias...</b></p>"
   ]
  },
  {
   "cell_type": "code",
   "execution_count": 37,
   "metadata": {},
   "outputs": [
    {
     "name": "stdout",
     "output_type": "stream",
     "text": [
      "0/37156\n"
     ]
    }
   ],
   "source": [
    "dupP = getDups(ppv,1)"
   ]
  },
  {
   "cell_type": "code",
   "execution_count": 38,
   "metadata": {},
   "outputs": [
    {
     "name": "stdout",
     "output_type": "stream",
     "text": [
      "2987/40003\n"
     ]
    }
   ],
   "source": [
    "dupL = getDups(lpv, 0)"
   ]
  },
  {
   "cell_type": "code",
   "execution_count": 39,
   "metadata": {},
   "outputs": [
    {
     "name": "stdout",
     "output_type": "stream",
     "text": [
      "5200/32972\n"
     ]
    }
   ],
   "source": [
    "dupN = getDups(npv, 0)"
   ]
  },
  {
   "cell_type": "markdown",
   "metadata": {},
   "source": [
    "<p><b>Filtrando names...</b></p>"
   ]
  },
  {
   "cell_type": "code",
   "execution_count": 40,
   "metadata": {},
   "outputs": [],
   "source": [
    "def filteringNames(dataset, l):    \n",
    "    for i in range(len(l)):\n",
    "        aux = dataset[dataset['pid'] == l[i]].iloc[0] ## primeira tupla que aparecer com certo id\n",
    "        dat = dataset.loc[dataset['pid'] == l[i]] ## dataframe de tuplas com mesmo id\n",
    "        \n",
    "        for t in range(len(dat)):\n",
    "            \n",
    "            ################################ FIXING NAMEATTES\n",
    "            \n",
    "            if(aux['nameAttested'][0] == 'unknown' and dat.iloc[t]['nameAttested'][0] != 'unknown'):\n",
    "                aux['nameAttested'] = dat.iloc[t]['nameAttested']\n",
    "                \n",
    "            elif(aux['nameAttested'][0] != 'unknown' and dat.iloc[t]['nameAttested'][0] != 'unknown'):\n",
    "                aux['nameAttested'] = list(set(aux['nameAttested'] + dat.iloc[t]['nameAttested']))\n",
    "            \n",
    "            ################################ FIXING LANGUAGE\n",
    "            \n",
    "            if(aux['nameLanguage'][0] == 'unknown' and dat.iloc[t]['nameLanguage'][0] != 'unknown'):\n",
    "                aux['nameLanguage'] = dat.iloc[t]['nameLanguage']\n",
    "                \n",
    "            elif(aux['nameLanguage'][0] != 'unknown' and dat.iloc[t]['nameLanguage'][0] != 'unknown'):\n",
    "                aux['nameLanguage'] = list(set(aux['nameLanguage'] + dat.iloc[t]['nameLanguage']))\n",
    "                \n",
    "            ################################ FIXING TRANSLITERATION\n",
    "            \n",
    "            if(aux['nameTransliterated'][0] == 'unknown' and dat.iloc[t]['nameTransliterated'][0] != 'unknown'):\n",
    "                aux['nameTransliterated'] = dat.iloc[t]['nameTransliterated']\n",
    "                \n",
    "            elif(aux['nameTransliterated'][0] != 'unknown' and dat.iloc[t]['nameTransliterated'][0] != 'unknown'):\n",
    "                aux['nameTransliterated'] = list(set(aux['nameTransliterated'] + dat.iloc[t]['nameTransliterated']))\n",
    "\n",
    "        dataset = dataset.drop(dataset[dataset['pid'] == l[i]].index)\n",
    "        dataset.append(aux.to_frame())\n",
    "        \n",
    "    print('DONE')\n",
    "    \n",
    "    return dataset"
   ]
  },
  {
   "cell_type": "code",
   "execution_count": 41,
   "metadata": {},
   "outputs": [
    {
     "name": "stdout",
     "output_type": "stream",
     "text": [
      "DONE\n"
     ]
    }
   ],
   "source": [
    "nf = filteringNames(npv,dupN)"
   ]
  },
  {
   "cell_type": "code",
   "execution_count": 42,
   "metadata": {},
   "outputs": [
    {
     "name": "stdout",
     "output_type": "stream",
     "text": [
      "0/17716\n"
     ]
    },
    {
     "data": {
      "text/plain": [
       "[]"
      ]
     },
     "execution_count": 42,
     "metadata": {},
     "output_type": "execute_result"
    }
   ],
   "source": [
    "getDups(nf,0)"
   ]
  },
  {
   "cell_type": "code",
   "execution_count": 43,
   "metadata": {},
   "outputs": [],
   "source": [
    "def filteringLocations(dataset, l):    \n",
    "    for i in range(len(l)):\n",
    "        aux = dataset[dataset['pid'] == l[i]].iloc[0] ## primeira tupla que aparecer com certo id\n",
    "        dat = dataset.loc[dataset['pid'] == l[i]] ## dataframe de tuplas com mesmo id\n",
    "        \n",
    "        for t in range(len(dat)):\n",
    "            \n",
    "            ################################ FIXING LATLONG\n",
    "            \n",
    "            if(np.isnan(aux['reprLat']) and np.isnan(aux['reprLong']) and \n",
    "               not(np.isnan(dat.iloc[t]['reprLat'])) and not(np.isnan(dat.iloc[t]['reprLong']))):\n",
    "                aux['reprLat'] = dat.iloc[t]['reprLat']\n",
    "                aux['reprLong'] = dat.iloc[t]['reprLong']\n",
    "            \n",
    "            ################################ FIXING FEATURETYPE\n",
    "            \n",
    "            if(aux['featureType'][0] == 'unknown' and dat.iloc[t]['featureType'][0] != 'unknown'):\n",
    "                aux['featureType'] = dat.iloc[t]['featureType']\n",
    "                \n",
    "            elif(aux['featureType'][0] != 'unknown' and dat.iloc[t]['featureType'][0] != 'unknown'):\n",
    "                aux['featureType'] = list(set(aux['featureType'] + dat.iloc[t]['featureType']))\n",
    "            \n",
    "            ################################ FIXING MAXDATE\n",
    "            \n",
    "            if(np.isnan(aux['maxDate']) and not(np.isnan(dat.iloc[t]['maxDate']))):\n",
    "                aux['maxDate'] = dat.iloc[t]['maxDate']\n",
    "            \n",
    "            ################################ FIXING MINDATE\n",
    "            \n",
    "            if(np.isnan(aux['minDate']) and not(np.isnan(dat.iloc[t]['minDate']))):\n",
    "                aux['minDate'] = dat.iloc[t]['minDate']\n",
    "            \n",
    "            ################################ FIXING DESCRIPTION\n",
    "            \n",
    "            if(aux['description'] == '' and dat.iloc[t]['description'] != ''):\n",
    "                aux['description'] = dat.iloc[t]['description']\n",
    "            \n",
    "            ################################ FIXING TIMEPERIODS\n",
    "            \n",
    "            if(aux['timePeriodsKeys'][0] == 'unknown' and dat.iloc[t]['timePeriodsKeys'][0] != 'unknown'):\n",
    "                aux['timePeriodsKeys'] = dat.iloc[t]['timePeriodsKeys']\n",
    "                \n",
    "            elif(aux['timePeriodsKeys'][0] != 'unknown' and dat.iloc[t]['timePeriodsKeys'][0] != 'unknown'):\n",
    "                aux['timePeriodsKeys'] = list(set(aux['timePeriodsKeys'] + dat.iloc[t]['timePeriodsKeys']))\n",
    "            \n",
    "            ################################ FIXING TAGS\n",
    "            \n",
    "            if(len(aux['tags']) == 0 and len(dat.iloc[t]['tags']) != 0):\n",
    "                aux['tags'] = dat.iloc[t]['tags']\n",
    "                \n",
    "            elif(len(aux['tags']) != 0 and len(dat.iloc[t]['tags']) != 0):\n",
    "                aux['tags'] = list(set(aux['tags'] + dat.iloc[t]['tags']))\n",
    "            \n",
    "            ################################ FIXING BBOX\n",
    "            \n",
    "            if(len(aux['bbox']) == 0 and len(dat.iloc[t]['bbox']) != 0):\n",
    "                aux['bbox'] = dat.iloc[t]['bbox']\n",
    "            \n",
    "            ################################ FIXING GEOMETRY\n",
    "            \n",
    "            if(aux['geometry'] == '' and dat.iloc[t]['geometry'] != ''):\n",
    "                aux['geometry'] = dat.iloc[t]['geometry']\n",
    "            \n",
    "\n",
    "        dataset = dataset.drop(dataset[dataset['pid'] == l[i]].index)\n",
    "        dataset.append(aux.to_frame())\n",
    "    \n",
    "    print('DONE')\n",
    "    \n",
    "    return dataset"
   ]
  },
  {
   "cell_type": "code",
   "execution_count": 44,
   "metadata": {},
   "outputs": [
    {
     "name": "stdout",
     "output_type": "stream",
     "text": [
      "DONE\n"
     ]
    }
   ],
   "source": [
    "lf = filteringLocations(lpv, dupL)"
   ]
  },
  {
   "cell_type": "code",
   "execution_count": 45,
   "metadata": {},
   "outputs": [
    {
     "name": "stdout",
     "output_type": "stream",
     "text": [
      "0/33631\n"
     ]
    },
    {
     "data": {
      "text/plain": [
       "[]"
      ]
     },
     "execution_count": 45,
     "metadata": {},
     "output_type": "execute_result"
    }
   ],
   "source": [
    "getDups(lf,0)"
   ]
  },
  {
   "cell_type": "markdown",
   "metadata": {},
   "source": [
    "<p><b>Mais um save point...</b></p>"
   ]
  },
  {
   "cell_type": "code",
   "execution_count": 46,
   "metadata": {},
   "outputs": [],
   "source": [
    "nf.to_csv('NamesPV2.csv', index=False)"
   ]
  },
  {
   "cell_type": "code",
   "execution_count": 47,
   "metadata": {},
   "outputs": [],
   "source": [
    "lf.to_csv('LocationsPV2.csv', index=False)"
   ]
  },
  {
   "cell_type": "markdown",
   "metadata": {},
   "source": [
    "#### 10) Fazendo o merge dos 3 arquivos\n",
    "<p>Será feito em partes, primeiro entre places e locations, depois o resultado desse primeiro merge com names.</p>"
   ]
  },
  {
   "cell_type": "code",
   "execution_count": 48,
   "metadata": {},
   "outputs": [],
   "source": [
    "pm = ppv.copy()"
   ]
  },
  {
   "cell_type": "code",
   "execution_count": 49,
   "metadata": {},
   "outputs": [
    {
     "data": {
      "text/plain": [
       "(37156, 13)"
      ]
     },
     "execution_count": 49,
     "metadata": {},
     "output_type": "execute_result"
    }
   ],
   "source": [
    "pm.shape"
   ]
  },
  {
   "cell_type": "code",
   "execution_count": 50,
   "metadata": {},
   "outputs": [],
   "source": [
    "lm = lf.copy()"
   ]
  },
  {
   "cell_type": "code",
   "execution_count": 51,
   "metadata": {},
   "outputs": [],
   "source": [
    "nm = nf.copy()"
   ]
  },
  {
   "cell_type": "markdown",
   "metadata": {},
   "source": [
    "<p><b>Fazendo o merge entre places e locations...</b></p>"
   ]
  },
  {
   "cell_type": "code",
   "execution_count": 52,
   "metadata": {},
   "outputs": [],
   "source": [
    "def mergePL(places, locations):\n",
    "    \n",
    "    places['featureType'] = ''\n",
    "\n",
    "    for l in range(len(locations)):\n",
    "        lax = locations.iloc[l]\n",
    "        pax = places[places['id'] == lax.iat[0]]\n",
    "        p = pax.index[0]\n",
    "\n",
    "        ################################ FIXING MAXDATE\n",
    "\n",
    "        if(str(pax['maxDate'].iat[0]) == 'nan' and not(np.isnan(lax.iat[2]))):\n",
    "            places.at[p,'maxDate'] = lax.iat[2]               \n",
    "\n",
    "        ################################ FIXING MINDATE\n",
    "\n",
    "        if(str(pax['minDate'].iat[0]) == 'nan' and not(np.isnan(lax.iat[3]))):\n",
    "            places.at[p,'minDate'] = lax.iat[3]\n",
    "\n",
    "        ################################ FIXING DESCRIPTION\n",
    "\n",
    "        if(str(pax['description'].iat[0]) == '' and lax.iat[4] != ''):\n",
    "            places.at[p,'description'] = lax.iat[4]\n",
    "\n",
    "        ################################ FIXING TIMEPERIODS\n",
    "\n",
    "        if(pax['timePeriodsKeys'].iat[0][0] == 'unknown' and lax.iat[5][0] != 'unknown'):\n",
    "            places.at[p,'timePeriodsKeys'] = lax.iat[5]\n",
    "\n",
    "        elif(pax['timePeriodsKeys'].iat[0][0] != 'unknown' and lax.iat[5][0] != 'unknown'):\n",
    "            places.at[p,'timePeriodsKeys'] = list(set(places.at[p,'timePeriodsKeys'] + lax.iat[5]))\n",
    "\n",
    "        ################################ FIXING TAGS\n",
    "\n",
    "        if(len(pax['tags'].iat[0]) == 0 and len(lax.iat[6]) != 0):\n",
    "            places.at[p,'tags'] = lax.iat[6]\n",
    "\n",
    "        elif(len(pax['tags'].iat[0]) != 0 and len(lax.iat[6]) != 0):\n",
    "            places.at[p,'tags'] = list(set(places.at[p,'tags'] + lax.iat[6]))\n",
    "\n",
    "        ################################ FIXING LATLONG\n",
    "\n",
    "        if((str(pax['reprLat'].iat[0]) == 'nan' and str(pax['reprLong'].iat[0]) == 'nan') and \n",
    "           (not(np.isnan(lax.iat[7])) and not(np.isnan(lax.iat[8])))):\n",
    "            places.at[p,'reprLat'] = lax.iat[7]\n",
    "            places.at[p,'reprLong'] = lax.iat[8]\n",
    "\n",
    "        ################################ FIXING BBOX\n",
    "\n",
    "        if(len(pax['bbox'].iat[0]) == 0 and len(lax.iat[9]) != 0):\n",
    "            places.at[p,'bbox'] = lax.iat[9]\n",
    "\n",
    "        ################################ FIXING GEOMETRY\n",
    "\n",
    "        if((str(pax['extent'].iat[0]) == '' or str(pax['extent'].iat[0]) == 'nan') and\n",
    "           (lax.iat[10] != '' or str(lax.iat[10]) != 'nan')):\n",
    "            places.at[p,'extent'] = lax.iat[10]\n",
    "\n",
    "        ################################ FIXING FEATURETYPE\n",
    "\n",
    "        if(pax['featureType'].iat[0] == '' and lax.iat[1][0] != 'unknown'):\n",
    "            places.at[p,'featureType'] = lax.iat[1]\n",
    "\n",
    "        elif(pax['featureType'].iat[0] == '' and lax.iat[1][0] == 'unknown'):\n",
    "            places.at[p,'featureType'] = ['unknown']\n",
    "                \n",
    "    print('DONE')\n",
    "    \n",
    "    return places   "
   ]
  },
  {
   "cell_type": "code",
   "execution_count": 53,
   "metadata": {},
   "outputs": [
    {
     "name": "stdout",
     "output_type": "stream",
     "text": [
      "DONE\n"
     ]
    }
   ],
   "source": [
    "pm2 = mergePL(pm, lm)"
   ]
  },
  {
   "cell_type": "code",
   "execution_count": 54,
   "metadata": {},
   "outputs": [],
   "source": [
    "pm3 = pm2.copy()"
   ]
  },
  {
   "cell_type": "code",
   "execution_count": 55,
   "metadata": {},
   "outputs": [
    {
     "data": {
      "text/plain": [
       "(37156, 14)"
      ]
     },
     "execution_count": 55,
     "metadata": {},
     "output_type": "execute_result"
    }
   ],
   "source": [
    "pm3.shape"
   ]
  },
  {
   "cell_type": "code",
   "execution_count": 56,
   "metadata": {},
   "outputs": [
    {
     "name": "stdout",
     "output_type": "stream",
     "text": [
      "0/37156\n"
     ]
    },
    {
     "data": {
      "text/plain": [
       "[]"
      ]
     },
     "execution_count": 56,
     "metadata": {},
     "output_type": "execute_result"
    }
   ],
   "source": [
    "getDups(pm3,1)"
   ]
  },
  {
   "cell_type": "markdown",
   "metadata": {},
   "source": [
    "<p><b>Fazendo o merge entre places e names...</b></p>"
   ]
  },
  {
   "cell_type": "code",
   "execution_count": 57,
   "metadata": {},
   "outputs": [],
   "source": [
    "def mergeNP(places, names):\n",
    "    places['nameAttested'] = ''\n",
    "    places['nameLanguage'] = ''\n",
    "    places['nameTransliterated'] = ''\n",
    "    \n",
    "    for l in range(len(names)):\n",
    "        nax = names.iloc[l]\n",
    "        pax = places[places['id'] == nax.iat[0]]\n",
    "        p = pax.index[0]\n",
    "        \n",
    "        ################################ FIXING NAMEATTES\n",
    "        \n",
    "        if(pax['nameAttested'].iat[0] == '' and nax.iat[1][0] != 'unknown'):\n",
    "            places.at[p,'nameAttested'] = nax.iat[1]\n",
    "\n",
    "        elif(pax['nameAttested'].iat[0] == '' and nax.iat[1][0] == 'unknown'):\n",
    "            places.at[p,'nameAttested'] = ['unknown']\n",
    "        \n",
    "        ################################ FIXING LANGUAGE\n",
    "        \n",
    "        if(pax['nameLanguage'].iat[0] == '' and nax.iat[1][0] != 'unknown'):\n",
    "            places.at[p,'nameLanguage'] = nax.iat[1]\n",
    "\n",
    "        elif(pax['nameLanguage'].iat[0] == '' and nax.iat[1][0] == 'unknown'):\n",
    "            places.at[p,'nameLanguage'] = ['unknown']\n",
    "        \n",
    "        ################################ FIXING TRANSLITERATION\n",
    "        \n",
    "        if(pax['nameTransliterated'].iat[0] == '' and nax.iat[1][0] != 'unknown'):\n",
    "            places.at[p,'nameTransliterated'] = nax.iat[1]\n",
    "\n",
    "        elif(pax['nameTransliterated'].iat[0] == '' and nax.iat[1][0] == 'unknown'):\n",
    "            places.at[p,'nameTransliterated'] = ['unknown']\n",
    "        \n",
    "    print('DONE')\n",
    "     \n",
    "    return places"
   ]
  },
  {
   "cell_type": "code",
   "execution_count": 58,
   "metadata": {},
   "outputs": [
    {
     "name": "stdout",
     "output_type": "stream",
     "text": [
      "DONE\n"
     ]
    }
   ],
   "source": [
    "pm4 = mergeNP(pm3, nm)"
   ]
  },
  {
   "cell_type": "code",
   "execution_count": 64,
   "metadata": {},
   "outputs": [],
   "source": [
    "pm5 = pm4.copy()"
   ]
  },
  {
   "cell_type": "code",
   "execution_count": 65,
   "metadata": {},
   "outputs": [
    {
     "data": {
      "text/plain": [
       "(37156, 17)"
      ]
     },
     "execution_count": 65,
     "metadata": {},
     "output_type": "execute_result"
    }
   ],
   "source": [
    "pm5.shape"
   ]
  },
  {
   "cell_type": "code",
   "execution_count": 66,
   "metadata": {},
   "outputs": [
    {
     "name": "stdout",
     "output_type": "stream",
     "text": [
      "0/37156\n"
     ]
    },
    {
     "data": {
      "text/plain": [
       "[]"
      ]
     },
     "execution_count": 66,
     "metadata": {},
     "output_type": "execute_result"
    }
   ],
   "source": [
    "getDups(pm5,1)"
   ]
  },
  {
   "cell_type": "markdown",
   "metadata": {},
   "source": [
    "<p><b>Últimos ajustes</b></p>"
   ]
  },
  {
   "cell_type": "code",
   "execution_count": 67,
   "metadata": {},
   "outputs": [],
   "source": [
    "def finalAdjst(places):\n",
    "    for p in range(len(places)):\n",
    "        pax = places.loc[p]\n",
    "        \n",
    "        if(isinstance(pax['featureType'], str)):\n",
    "            places.at[p,'featureType'] = ['unknown']\n",
    "        \n",
    "        if(isinstance(pax['nameAttested'],str)):\n",
    "            places.at[p,'nameAttested'] = ['unknown']\n",
    "            \n",
    "        if(isinstance(pax['nameLanguage'],str)):\n",
    "            places.at[p,'nameLanguage'] = ['unknown']\n",
    "            \n",
    "        if(isinstance(pax['nameTransliterated'],str)):\n",
    "            places.at[p,'nameTransliterated'] = ['unknown']\n",
    "    \n",
    "    print('DONE')\n",
    "     \n",
    "    return places    "
   ]
  },
  {
   "cell_type": "code",
   "execution_count": 68,
   "metadata": {},
   "outputs": [
    {
     "name": "stdout",
     "output_type": "stream",
     "text": [
      "DONE\n"
     ]
    }
   ],
   "source": [
    "pm6 = finalAdjst(pm5)"
   ]
  },
  {
   "cell_type": "code",
   "execution_count": 92,
   "metadata": {},
   "outputs": [],
   "source": [
    "pf = pm6.copy()"
   ]
  },
  {
   "cell_type": "code",
   "execution_count": 93,
   "metadata": {},
   "outputs": [
    {
     "data": {
      "text/plain": [
       "(37156, 17)"
      ]
     },
     "execution_count": 93,
     "metadata": {},
     "output_type": "execute_result"
    }
   ],
   "source": [
    "pf.shape"
   ]
  },
  {
   "cell_type": "code",
   "execution_count": 94,
   "metadata": {},
   "outputs": [
    {
     "name": "stdout",
     "output_type": "stream",
     "text": [
      "0/37156\n"
     ]
    },
    {
     "data": {
      "text/plain": [
       "[]"
      ]
     },
     "execution_count": 94,
     "metadata": {},
     "output_type": "execute_result"
    }
   ],
   "source": [
    "getDups(pf,1)"
   ]
  },
  {
   "cell_type": "code",
   "execution_count": 95,
   "metadata": {},
   "outputs": [],
   "source": [
    "pf = pf[pf['reprLat'].notna()]"
   ]
  },
  {
   "cell_type": "code",
   "execution_count": 96,
   "metadata": {},
   "outputs": [],
   "source": [
    "pf = pf[pf['reprLong'].notna()]"
   ]
  },
  {
   "cell_type": "code",
   "execution_count": 97,
   "metadata": {},
   "outputs": [
    {
     "data": {
      "text/plain": [
       "(29767, 17)"
      ]
     },
     "execution_count": 97,
     "metadata": {},
     "output_type": "execute_result"
    }
   ],
   "source": [
    "pf.shape"
   ]
  },
  {
   "cell_type": "code",
   "execution_count": 98,
   "metadata": {},
   "outputs": [],
   "source": [
    "pf.to_csv('PLEAIDES.csv', encoding='utf-8', index=False)"
   ]
  }
 ],
 "metadata": {
  "kernelspec": {
   "display_name": "Python 3",
   "language": "python",
   "name": "python3"
  },
  "language_info": {
   "codemirror_mode": {
    "name": "ipython",
    "version": 3
   },
   "file_extension": ".py",
   "mimetype": "text/x-python",
   "name": "python",
   "nbconvert_exporter": "python",
   "pygments_lexer": "ipython3",
   "version": "3.8.3"
  }
 },
 "nbformat": 4,
 "nbformat_minor": 4
}
